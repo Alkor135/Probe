{
 "cells": [
  {
   "cell_type": "markdown",
   "metadata": {},
   "source": [
    "# Разбиение свечи на диапазоны"
   ]
  },
  {
   "cell_type": "markdown",
   "metadata": {},
   "source": [
    "Свеча имеет ценовые значения High и Low.  \n",
    "Нужно разбить этот ценовой диапазон на 4 равные части."
   ]
  },
  {
   "cell_type": "code",
   "execution_count": 178,
   "metadata": {},
   "outputs": [],
   "source": [
    "import pandas as pd\n",
    "import numpy as np"
   ]
  },
  {
   "cell_type": "code",
   "execution_count": 179,
   "metadata": {},
   "outputs": [],
   "source": [
    "# Загружаем DF со свечами\n",
    "df_5m = pd.read_csv('../data_finam/SPFB.RTS_20200901_20200901_5min.csv', delimiter=',')\n",
    "# df_5m"
   ]
  },
  {
   "cell_type": "code",
   "execution_count": 180,
   "metadata": {},
   "outputs": [],
   "source": [
    "# Загружаем DF c тиками\n",
    "df_ticks = pd.read_csv('../data_finam/SPFB.RTS_20200901_20200901_tick.csv', delimiter=',')\n",
    "# df_ticks"
   ]
  },
  {
   "cell_type": "markdown",
   "metadata": {},
   "source": [
    "Обозначим время свечи которая нас интересует"
   ]
  },
  {
   "cell_type": "code",
   "execution_count": 181,
   "metadata": {},
   "outputs": [],
   "source": [
    "time_start_candle = 100000 # 10:00 время свечи"
   ]
  },
  {
   "cell_type": "markdown",
   "metadata": {},
   "source": [
    "Обозначим таймфрейм свечи"
   ]
  },
  {
   "cell_type": "code",
   "execution_count": 182,
   "metadata": {},
   "outputs": [],
   "source": [
    "time_frame = 500 # Таймфрейм свечи"
   ]
  },
  {
   "cell_type": "markdown",
   "metadata": {},
   "source": [
    "Теперь нужно сформировать DF с тиковыми объемами под одну свечу"
   ]
  },
  {
   "cell_type": "code",
   "execution_count": 183,
   "metadata": {},
   "outputs": [],
   "source": [
    "# Формирование df под одну свечу\n",
    "df_candle = df_ticks[df_ticks['<TIME>'] >= time_start_candle]  # Отсекаем предшествующие\n",
    "df_candle = df_candle[df_candle['<TIME>'] < time_start_candle + 500]  # Отсекаем последующие\n",
    "\n",
    "# Группировка по ценам в свече\n",
    "s_rez = df_candle.groupby('<LAST>')['<VOL>'].sum()  # Series (в индексе цена, в значениях суммы объемов)\n",
    "# s_rez"
   ]
  },
  {
   "cell_type": "code",
   "execution_count": 184,
   "metadata": {},
   "outputs": [
    {
     "data": {
      "text/plain": [
       "<LAST>\n",
       "127210.0    131\n",
       "127200.0    597\n",
       "127190.0    384\n",
       "127180.0    512\n",
       "127170.0    507\n",
       "           ... \n",
       "126300.0      2\n",
       "126290.0      2\n",
       "126250.0      1\n",
       "126240.0      1\n",
       "126200.0     22\n",
       "Name: <VOL>, Length: 82, dtype: int64"
      ]
     },
     "execution_count": 184,
     "metadata": {},
     "output_type": "execute_result"
    }
   ],
   "source": [
    "# Сортируем в обратном порядке\n",
    "s_rez = s_rez.sort_index(ascending = False)\n",
    "s_rez"
   ]
  },
  {
   "cell_type": "code",
   "execution_count": 185,
   "metadata": {},
   "outputs": [
    {
     "data": {
      "text/plain": [
       "126805.0"
      ]
     },
     "execution_count": 185,
     "metadata": {},
     "output_type": "execute_result"
    }
   ],
   "source": [
    "np.percentile(s_rez.index, 50)"
   ]
  },
  {
   "cell_type": "code",
   "execution_count": 186,
   "metadata": {},
   "outputs": [
    {
     "data": {
      "text/plain": [
       "127007.5"
      ]
     },
     "execution_count": 186,
     "metadata": {},
     "output_type": "execute_result"
    }
   ],
   "source": [
    "np.percentile(s_rez.index, 75)"
   ]
  },
  {
   "cell_type": "code",
   "execution_count": 187,
   "metadata": {},
   "outputs": [
    {
     "data": {
      "text/plain": [
       "126602.5"
      ]
     },
     "execution_count": 187,
     "metadata": {},
     "output_type": "execute_result"
    }
   ],
   "source": [
    "np.percentile(s_rez.index, 25)"
   ]
  },
  {
   "cell_type": "code",
   "execution_count": 188,
   "metadata": {},
   "outputs": [
    {
     "data": {
      "text/plain": [
       "244.5"
      ]
     },
     "execution_count": 188,
     "metadata": {},
     "output_type": "execute_result"
    }
   ],
   "source": [
    "np.percentile(s_rez.values, 50)"
   ]
  },
  {
   "cell_type": "code",
   "execution_count": 189,
   "metadata": {},
   "outputs": [
    {
     "data": {
      "text/plain": [
       "126200.0"
      ]
     },
     "execution_count": 189,
     "metadata": {},
     "output_type": "execute_result"
    }
   ],
   "source": [
    "low_candle = s_rez.index.min()\n",
    "low_candle"
   ]
  },
  {
   "cell_type": "code",
   "execution_count": 190,
   "metadata": {},
   "outputs": [
    {
     "data": {
      "text/plain": [
       "127210.0"
      ]
     },
     "execution_count": 190,
     "metadata": {},
     "output_type": "execute_result"
    }
   ],
   "source": [
    "high_candle = s_rez.index.max()\n",
    "high_candle"
   ]
  },
  {
   "cell_type": "code",
   "execution_count": 191,
   "metadata": {},
   "outputs": [
    {
     "data": {
      "text/plain": [
       "126705.0"
      ]
     },
     "execution_count": 191,
     "metadata": {},
     "output_type": "execute_result"
    }
   ],
   "source": [
    "candle_median = (high_candle + low_candle) / 2\n",
    "candle_median"
   ]
  },
  {
   "cell_type": "code",
   "execution_count": 192,
   "metadata": {},
   "outputs": [
    {
     "data": {
      "text/plain": [
       "12.317073170731707"
      ]
     },
     "execution_count": 192,
     "metadata": {},
     "output_type": "execute_result"
    }
   ],
   "source": [
    "step = (high_candle - low_candle) / len(s_rez)\n",
    "step"
   ]
  },
  {
   "cell_type": "markdown",
   "metadata": {},
   "source": [
    "Такой step не подходит, есть пропуски"
   ]
  },
  {
   "cell_type": "code",
   "execution_count": 193,
   "metadata": {},
   "outputs": [
    {
     "data": {
      "text/plain": [
       "Float64Index([127210.0, 127200.0, 127190.0, 127180.0, 127170.0, 127160.0,\n",
       "              127150.0, 127140.0, 127130.0, 127120.0, 127110.0, 127100.0,\n",
       "              127090.0, 127080.0, 127070.0, 127060.0, 127050.0, 127040.0,\n",
       "              127030.0, 127020.0, 127010.0],\n",
       "             dtype='float64', name='<LAST>')"
      ]
     },
     "execution_count": 193,
     "metadata": {},
     "output_type": "execute_result"
    }
   ],
   "source": [
    "part0, part1, part2, part3 = np.array_split(s_rez.index, 4)\n",
    "part0"
   ]
  },
  {
   "cell_type": "code",
   "execution_count": 194,
   "metadata": {},
   "outputs": [
    {
     "data": {
      "text/plain": [
       "Float64Index([127000.0, 126990.0, 126980.0, 126970.0, 126960.0, 126950.0,\n",
       "              126940.0, 126930.0, 126920.0, 126910.0, 126900.0, 126890.0,\n",
       "              126880.0, 126870.0, 126860.0, 126850.0, 126840.0, 126830.0,\n",
       "              126820.0, 126810.0, 126800.0],\n",
       "             dtype='float64', name='<LAST>')"
      ]
     },
     "execution_count": 194,
     "metadata": {},
     "output_type": "execute_result"
    }
   ],
   "source": [
    "part1"
   ]
  },
  {
   "cell_type": "code",
   "execution_count": null,
   "metadata": {},
   "outputs": [],
   "source": []
  }
 ],
 "metadata": {
  "hide_input": false,
  "kernelspec": {
   "display_name": "Python 3",
   "language": "python",
   "name": "python3"
  },
  "language_info": {
   "codemirror_mode": {
    "name": "ipython",
    "version": 3
   },
   "file_extension": ".py",
   "mimetype": "text/x-python",
   "name": "python",
   "nbconvert_exporter": "python",
   "pygments_lexer": "ipython3",
   "version": "3.8.3"
  },
  "toc": {
   "base_numbering": 1,
   "nav_menu": {},
   "number_sections": true,
   "sideBar": true,
   "skip_h1_title": false,
   "title_cell": "Table of Contents",
   "title_sidebar": "Contents",
   "toc_cell": false,
   "toc_position": {},
   "toc_section_display": true,
   "toc_window_display": false
  }
 },
 "nbformat": 4,
 "nbformat_minor": 4
}