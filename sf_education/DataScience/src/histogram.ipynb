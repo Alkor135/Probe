{
 "cells": [
  {
   "cell_type": "markdown",
   "metadata": {},
   "source": [
    "# График в виде гистограммы"
   ]
  },
  {
   "cell_type": "code",
   "execution_count": 97,
   "metadata": {},
   "outputs": [],
   "source": [
    "from basic_graphs import load_prices\n",
    "import matplotlib.pyplot as plt\n",
    "import matplotlib.mlab as mlab\n",
    "# from matplotlib import pyplot, mlab\n",
    "plt.rcParams['figure.figsize'] = (16,12)\n",
    "# plt.rcParams['figure.dpi'] = 200\n",
    "import numpy as np\n",
    "import scipy.stats as stats\n",
    "import pandas as pd"
   ]
  },
  {
   "cell_type": "code",
   "execution_count": 98,
   "metadata": {},
   "outputs": [],
   "source": [
    "# Шрифт надписей к графикам\n",
    "font = {'family': 'serif',\n",
    "        'color':  'darkred',\n",
    "        'weight': 'normal',\n",
    "        'size': 20,\n",
    "        }"
   ]
  },
  {
   "cell_type": "code",
   "execution_count": 99,
   "metadata": {},
   "outputs": [
    {
     "data": {
      "text/html": [
       "<div>\n",
       "<style scoped>\n",
       "    .dataframe tbody tr th:only-of-type {\n",
       "        vertical-align: middle;\n",
       "    }\n",
       "\n",
       "    .dataframe tbody tr th {\n",
       "        vertical-align: top;\n",
       "    }\n",
       "\n",
       "    .dataframe thead th {\n",
       "        text-align: right;\n",
       "    }\n",
       "</style>\n",
       "<table border=\"1\" class=\"dataframe\">\n",
       "  <thead>\n",
       "    <tr style=\"text-align: right;\">\n",
       "      <th></th>\n",
       "      <th>Open</th>\n",
       "      <th>High</th>\n",
       "      <th>Low</th>\n",
       "      <th>Close</th>\n",
       "      <th>Volume</th>\n",
       "    </tr>\n",
       "    <tr>\n",
       "      <th>Date</th>\n",
       "      <th></th>\n",
       "      <th></th>\n",
       "      <th></th>\n",
       "      <th></th>\n",
       "      <th></th>\n",
       "    </tr>\n",
       "  </thead>\n",
       "  <tbody>\n",
       "    <tr>\n",
       "      <th>2000-07-03</th>\n",
       "      <td>1452.36</td>\n",
       "      <td>1469.83</td>\n",
       "      <td>1450.79</td>\n",
       "      <td>1469.54</td>\n",
       "      <td>5.021111e+08</td>\n",
       "    </tr>\n",
       "    <tr>\n",
       "      <th>2000-07-05</th>\n",
       "      <td>1464.51</td>\n",
       "      <td>1467.51</td>\n",
       "      <td>1442.26</td>\n",
       "      <td>1445.38</td>\n",
       "      <td>1.132556e+09</td>\n",
       "    </tr>\n",
       "    <tr>\n",
       "      <th>2000-07-06</th>\n",
       "      <td>1446.41</td>\n",
       "      <td>1461.69</td>\n",
       "      <td>1439.58</td>\n",
       "      <td>1456.67</td>\n",
       "      <td>1.052556e+09</td>\n",
       "    </tr>\n",
       "    <tr>\n",
       "      <th>2000-07-07</th>\n",
       "      <td>1458.20</td>\n",
       "      <td>1485.15</td>\n",
       "      <td>1456.67</td>\n",
       "      <td>1478.90</td>\n",
       "      <td>1.035222e+09</td>\n",
       "    </tr>\n",
       "    <tr>\n",
       "      <th>2000-07-10</th>\n",
       "      <td>1475.48</td>\n",
       "      <td>1486.50</td>\n",
       "      <td>1474.73</td>\n",
       "      <td>1475.62</td>\n",
       "      <td>9.318889e+08</td>\n",
       "    </tr>\n",
       "    <tr>\n",
       "      <th>...</th>\n",
       "      <td>...</td>\n",
       "      <td>...</td>\n",
       "      <td>...</td>\n",
       "      <td>...</td>\n",
       "      <td>...</td>\n",
       "    </tr>\n",
       "    <tr>\n",
       "      <th>2018-06-08</th>\n",
       "      <td>2765.84</td>\n",
       "      <td>2779.39</td>\n",
       "      <td>2763.59</td>\n",
       "      <td>2779.03</td>\n",
       "      <td>5.110598e+08</td>\n",
       "    </tr>\n",
       "    <tr>\n",
       "      <th>2018-06-11</th>\n",
       "      <td>2780.18</td>\n",
       "      <td>2790.21</td>\n",
       "      <td>2780.17</td>\n",
       "      <td>2782.00</td>\n",
       "      <td>5.104920e+08</td>\n",
       "    </tr>\n",
       "    <tr>\n",
       "      <th>2018-06-12</th>\n",
       "      <td>2785.60</td>\n",
       "      <td>2789.80</td>\n",
       "      <td>2778.78</td>\n",
       "      <td>2786.85</td>\n",
       "      <td>5.416998e+08</td>\n",
       "    </tr>\n",
       "    <tr>\n",
       "      <th>2018-06-13</th>\n",
       "      <td>2787.94</td>\n",
       "      <td>2791.47</td>\n",
       "      <td>2774.65</td>\n",
       "      <td>2775.63</td>\n",
       "      <td>6.652438e+08</td>\n",
       "    </tr>\n",
       "    <tr>\n",
       "      <th>2018-06-14</th>\n",
       "      <td>2783.21</td>\n",
       "      <td>2789.06</td>\n",
       "      <td>2776.52</td>\n",
       "      <td>2782.49</td>\n",
       "      <td>NaN</td>\n",
       "    </tr>\n",
       "  </tbody>\n",
       "</table>\n",
       "<p>4516 rows × 5 columns</p>\n",
       "</div>"
      ],
      "text/plain": [
       "               Open     High      Low    Close        Volume\n",
       "Date                                                        \n",
       "2000-07-03  1452.36  1469.83  1450.79  1469.54  5.021111e+08\n",
       "2000-07-05  1464.51  1467.51  1442.26  1445.38  1.132556e+09\n",
       "2000-07-06  1446.41  1461.69  1439.58  1456.67  1.052556e+09\n",
       "2000-07-07  1458.20  1485.15  1456.67  1478.90  1.035222e+09\n",
       "2000-07-10  1475.48  1486.50  1474.73  1475.62  9.318889e+08\n",
       "...             ...      ...      ...      ...           ...\n",
       "2018-06-08  2765.84  2779.39  2763.59  2779.03  5.110598e+08\n",
       "2018-06-11  2780.18  2790.21  2780.17  2782.00  5.104920e+08\n",
       "2018-06-12  2785.60  2789.80  2778.78  2786.85  5.416998e+08\n",
       "2018-06-13  2787.94  2791.47  2774.65  2775.63  6.652438e+08\n",
       "2018-06-14  2783.21  2789.06  2776.52  2782.49           NaN\n",
       "\n",
       "[4516 rows x 5 columns]"
      ]
     },
     "execution_count": 99,
     "metadata": {},
     "output_type": "execute_result"
    }
   ],
   "source": [
    "spx = load_prices('../data/^spx_d.csv')  # Читаем данные их файла в DF\n",
    "spx"
   ]
  },
  {
   "cell_type": "code",
   "execution_count": 100,
   "metadata": {},
   "outputs": [
    {
     "data": {
      "text/html": [
       "<div>\n",
       "<style scoped>\n",
       "    .dataframe tbody tr th:only-of-type {\n",
       "        vertical-align: middle;\n",
       "    }\n",
       "\n",
       "    .dataframe tbody tr th {\n",
       "        vertical-align: top;\n",
       "    }\n",
       "\n",
       "    .dataframe thead th {\n",
       "        text-align: right;\n",
       "    }\n",
       "</style>\n",
       "<table border=\"1\" class=\"dataframe\">\n",
       "  <thead>\n",
       "    <tr style=\"text-align: right;\">\n",
       "      <th></th>\n",
       "      <th>Close</th>\n",
       "    </tr>\n",
       "    <tr>\n",
       "      <th>Date</th>\n",
       "      <th></th>\n",
       "    </tr>\n",
       "  </thead>\n",
       "  <tbody>\n",
       "    <tr>\n",
       "      <th>2000-07-03</th>\n",
       "      <td>1469.54</td>\n",
       "    </tr>\n",
       "    <tr>\n",
       "      <th>2000-07-05</th>\n",
       "      <td>1445.38</td>\n",
       "    </tr>\n",
       "    <tr>\n",
       "      <th>2000-07-06</th>\n",
       "      <td>1456.67</td>\n",
       "    </tr>\n",
       "    <tr>\n",
       "      <th>2000-07-07</th>\n",
       "      <td>1478.90</td>\n",
       "    </tr>\n",
       "    <tr>\n",
       "      <th>2000-07-10</th>\n",
       "      <td>1475.62</td>\n",
       "    </tr>\n",
       "    <tr>\n",
       "      <th>...</th>\n",
       "      <td>...</td>\n",
       "    </tr>\n",
       "    <tr>\n",
       "      <th>2018-06-08</th>\n",
       "      <td>2779.03</td>\n",
       "    </tr>\n",
       "    <tr>\n",
       "      <th>2018-06-11</th>\n",
       "      <td>2782.00</td>\n",
       "    </tr>\n",
       "    <tr>\n",
       "      <th>2018-06-12</th>\n",
       "      <td>2786.85</td>\n",
       "    </tr>\n",
       "    <tr>\n",
       "      <th>2018-06-13</th>\n",
       "      <td>2775.63</td>\n",
       "    </tr>\n",
       "    <tr>\n",
       "      <th>2018-06-14</th>\n",
       "      <td>2782.49</td>\n",
       "    </tr>\n",
       "  </tbody>\n",
       "</table>\n",
       "<p>4516 rows × 1 columns</p>\n",
       "</div>"
      ],
      "text/plain": [
       "              Close\n",
       "Date               \n",
       "2000-07-03  1469.54\n",
       "2000-07-05  1445.38\n",
       "2000-07-06  1456.67\n",
       "2000-07-07  1478.90\n",
       "2000-07-10  1475.62\n",
       "...             ...\n",
       "2018-06-08  2779.03\n",
       "2018-06-11  2782.00\n",
       "2018-06-12  2786.85\n",
       "2018-06-13  2775.63\n",
       "2018-06-14  2782.49\n",
       "\n",
       "[4516 rows x 1 columns]"
      ]
     },
     "execution_count": 100,
     "metadata": {},
     "output_type": "execute_result"
    }
   ],
   "source": [
    "spx = spx[['Close']]  # В 'spx' оставляем только колонку 'Close' (двойные квадратные скобки)\n",
    "spx"
   ]
  },
  {
   "cell_type": "code",
   "execution_count": 101,
   "metadata": {},
   "outputs": [
    {
     "data": {
      "image/png": "[encoded data removed]",
      "text/plain": [
       "<Figure size 1152x864 with 1 Axes>"
      ]
     },
     "metadata": {
      "needs_background": "light"
     },
     "output_type": "display_data"
    }
   ],
   "source": [
    "# Рисуем график\n",
    "plt.plot(spx.index, spx['Close'])\n",
    "plt.ylabel('Цена', fontdict=font)\n",
    "plt.xlabel('Год', fontdict=font)\n",
    "plt.title(\"SPX\", fontdict=font)\n",
    "plt.show()"
   ]
  },
  {
   "cell_type": "code",
   "execution_count": 102,
   "metadata": {},
   "outputs": [
    {
     "data": {
      "text/html": [
       "<div>\n",
       "<style scoped>\n",
       "    .dataframe tbody tr th:only-of-type {\n",
       "        vertical-align: middle;\n",
       "    }\n",
       "\n",
       "    .dataframe tbody tr th {\n",
       "        vertical-align: top;\n",
       "    }\n",
       "\n",
       "    .dataframe thead th {\n",
       "        text-align: right;\n",
       "    }\n",
       "</style>\n",
       "<table border=\"1\" class=\"dataframe\">\n",
       "  <thead>\n",
       "    <tr style=\"text-align: right;\">\n",
       "      <th></th>\n",
       "      <th>Close</th>\n",
       "      <th>Pct_change</th>\n",
       "    </tr>\n",
       "    <tr>\n",
       "      <th>Date</th>\n",
       "      <th></th>\n",
       "      <th></th>\n",
       "    </tr>\n",
       "  </thead>\n",
       "  <tbody>\n",
       "    <tr>\n",
       "      <th>2000-07-03</th>\n",
       "      <td>1469.54</td>\n",
       "      <td>NaN</td>\n",
       "    </tr>\n",
       "    <tr>\n",
       "      <th>2000-07-05</th>\n",
       "      <td>1445.38</td>\n",
       "      <td>-0.016441</td>\n",
       "    </tr>\n",
       "    <tr>\n",
       "      <th>2000-07-06</th>\n",
       "      <td>1456.67</td>\n",
       "      <td>0.007811</td>\n",
       "    </tr>\n",
       "    <tr>\n",
       "      <th>2000-07-07</th>\n",
       "      <td>1478.90</td>\n",
       "      <td>0.015261</td>\n",
       "    </tr>\n",
       "    <tr>\n",
       "      <th>2000-07-10</th>\n",
       "      <td>1475.62</td>\n",
       "      <td>-0.002218</td>\n",
       "    </tr>\n",
       "    <tr>\n",
       "      <th>...</th>\n",
       "      <td>...</td>\n",
       "      <td>...</td>\n",
       "    </tr>\n",
       "    <tr>\n",
       "      <th>2018-06-08</th>\n",
       "      <td>2779.03</td>\n",
       "      <td>0.003126</td>\n",
       "    </tr>\n",
       "    <tr>\n",
       "      <th>2018-06-11</th>\n",
       "      <td>2782.00</td>\n",
       "      <td>0.001069</td>\n",
       "    </tr>\n",
       "    <tr>\n",
       "      <th>2018-06-12</th>\n",
       "      <td>2786.85</td>\n",
       "      <td>0.001743</td>\n",
       "    </tr>\n",
       "    <tr>\n",
       "      <th>2018-06-13</th>\n",
       "      <td>2775.63</td>\n",
       "      <td>-0.004026</td>\n",
       "    </tr>\n",
       "    <tr>\n",
       "      <th>2018-06-14</th>\n",
       "      <td>2782.49</td>\n",
       "      <td>0.002472</td>\n",
       "    </tr>\n",
       "  </tbody>\n",
       "</table>\n",
       "<p>4516 rows × 2 columns</p>\n",
       "</div>"
      ],
      "text/plain": [
       "              Close  Pct_change\n",
       "Date                           \n",
       "2000-07-03  1469.54         NaN\n",
       "2000-07-05  1445.38   -0.016441\n",
       "2000-07-06  1456.67    0.007811\n",
       "2000-07-07  1478.90    0.015261\n",
       "2000-07-10  1475.62   -0.002218\n",
       "...             ...         ...\n",
       "2018-06-08  2779.03    0.003126\n",
       "2018-06-11  2782.00    0.001069\n",
       "2018-06-12  2786.85    0.001743\n",
       "2018-06-13  2775.63   -0.004026\n",
       "2018-06-14  2782.49    0.002472\n",
       "\n",
       "[4516 rows x 2 columns]"
      ]
     },
     "execution_count": 102,
     "metadata": {},
     "output_type": "execute_result"
    }
   ],
   "source": [
    "spx = spx.assign(Pct_change=spx.pct_change())  # Добавляем колонку процентного изменения\n",
    "spx"
   ]
  },
  {
   "cell_type": "markdown",
   "metadata": {},
   "source": [
    "Т.к. первое значение \"NaN\" его отбрасываем"
   ]
  },
  {
   "cell_type": "markdown",
   "metadata": {},
   "source": [
    "Создаем список close в котором будут все значения процентного изменения кроме первого (дата нам не нужна)"
   ]
  },
  {
   "cell_type": "code",
   "execution_count": 103,
   "metadata": {},
   "outputs": [
    {
     "data": {
      "text/plain": [
       "array([-0.01644052,  0.00781109,  0.01526083, ...,  0.00174335,\n",
       "       -0.00402605,  0.00247151])"
      ]
     },
     "execution_count": 103,
     "metadata": {},
     "output_type": "execute_result"
    }
   ],
   "source": [
    "close = spx['Pct_change'].values[1:]  # Выбираем срез без первого значения\n",
    "close"
   ]
  },
  {
   "cell_type": "code",
   "execution_count": 104,
   "metadata": {},
   "outputs": [
    {
     "data": {
      "image/png": "[encoded data removed]",
      "text/plain": [
       "<Figure size 1152x864 with 1 Axes>"
      ]
     },
     "metadata": {
      "needs_background": "light"
     },
     "output_type": "display_data"
    }
   ],
   "source": [
    "# Рисуем график гистограммы \n",
    "plt.hist(close, bins=50)  # количество ячеек одинаковой ширины 50\n",
    "plt.ylabel('Количество', fontdict=font)\n",
    "plt.xlabel('% изменения от предыдущего дня', fontdict=font)\n",
    "plt.title(\"Histogram\", fontdict=font)\n",
    "plt.show()"
   ]
  },
  {
   "cell_type": "code",
   "execution_count": 105,
   "metadata": {
    "scrolled": true
   },
   "outputs": [
    {
     "name": "stdout",
     "output_type": "stream",
     "text": [
      "Количество ячеек (столбцов) patches=<a list of 50 Patch objects>\n",
      "Количественные значения в столбцах (Х ось) n=array([  3.,   0.,   0.,   1.,   0.,   2.,   0.,   3.,   0.,   6.,   5.,\n",
      "         8.,   7.,  15.,  29.,  41.,  68., 110., 191., 301., 471., 945.,\n",
      "       976., 596., 319., 187.,  80.,  63.,  22.,  13.,  15.,  15.,   7.,\n",
      "         4.,   2.,   3.,   0.,   3.,   1.,   1.,   0.,   0.,   0.,   0.,\n",
      "         0.,   0.,   0.,   0.,   1.,   1.])\n",
      "Процент отклонения для каждого столбца (Y ось) buckets=array([-0.0903498 , -0.08622679, -0.08210379, -0.07798079, -0.07385778,\n",
      "       -0.06973478, -0.06561178, -0.06148877, -0.05736577, -0.05324277,\n",
      "       -0.04911976, -0.04499676, -0.04087376, -0.03675076, -0.03262775,\n",
      "       -0.02850475, -0.02438175, -0.02025874, -0.01613574, -0.01201274,\n",
      "       -0.00788973, -0.00376673,  0.00035627,  0.00447928,  0.00860228,\n",
      "        0.01272528,  0.01684829,  0.02097129,  0.02509429,  0.02921729,\n",
      "        0.0333403 ,  0.0374633 ,  0.0415863 ,  0.04570931,  0.04983231,\n",
      "        0.05395531,  0.05807832,  0.06220132,  0.06632432,  0.07044733,\n",
      "        0.07457033,  0.07869333,  0.08281634,  0.08693934,  0.09106234,\n",
      "        0.09518534,  0.09930835,  0.10343135,  0.10755435,  0.11167736,\n",
      "        0.11580036])\n"
     ]
    },
    {
     "data": {
      "image/png": "[encoded data removed]",
      "text/plain": [
       "<Figure size 1152x864 with 1 Axes>"
      ]
     },
     "metadata": {
      "needs_background": "light"
     },
     "output_type": "display_data"
    }
   ],
   "source": [
    "# Получим дополнительную информацию из гистограммы\n",
    "n, buckets, patches = plt.hist(close, 50)\n",
    "print(f'Количество ячеек (столбцов) {patches=}')\n",
    "print(f'Количественные значения в столбцах (Х ось) {n=}')\n",
    "print(f'Процент отклонения для каждого столбца (Y ось) {buckets=}')\n"
   ]
  },
  {
   "cell_type": "markdown",
   "metadata": {},
   "source": [
    "Полученные данные (n, buckets, patches) впишем в функцию нормального распределения"
   ]
  },
  {
   "cell_type": "code",
   "execution_count": 106,
   "metadata": {},
   "outputs": [
    {
     "data": {
      "image/png": "[encoded data removed]",
      "text/plain": [
       "<Figure size 1152x864 with 1 Axes>"
      ]
     },
     "metadata": {
      "needs_background": "light"
     },
     "output_type": "display_data"
    }
   ],
   "source": [
    "mean = close.mean()\n",
    "std = close.std()  # Стандартная девиация\n",
    "best_fit_line = stats.norm.pdf(buckets, mean, std)\n",
    "plt.plot(buckets, best_fit_line, 'red')  # Нормальное распределение рисуем красной линией\n",
    "plt.hist(close, 50)\n",
    "\n",
    "# Линии стандартных отклонений\n",
    "plt.axvline(x=mean)\n",
    "plt.axvline(x=mean+2*std)\n",
    "plt.axvline(x=mean-2*std)\n",
    "plt.axvline(x=mean+6*std)\n",
    "plt.axvline(x=mean-6*std)\n",
    "\n",
    "plt.show()"
   ]
  },
  {
   "cell_type": "markdown",
   "metadata": {},
   "source": [
    "Полученное распределение не является нормальным из-за выбросов по краям. Наглядно видно как рисуется красная линия.  \n",
    "В данном случае график нормального распределения пытается вписаться в наши данные, но из-за выбросов по краям он такой низкий.\n",
    "* * *"
   ]
  },
  {
   "cell_type": "markdown",
   "metadata": {},
   "source": [
    "Посмотрим на наши средние значения"
   ]
  },
  {
   "cell_type": "code",
   "execution_count": 107,
   "metadata": {},
   "outputs": [
    {
     "name": "stdout",
     "output_type": "stream",
     "text": [
      "Среднее значение:mean=0.00021333402480649502, Стандартное отклонение:std=0.011989384054045631\n"
     ]
    }
   ],
   "source": [
    "print(f'Среднее значение:{mean=}, Стандартное отклонение:{std=}')"
   ]
  },
  {
   "cell_type": "code",
   "execution_count": 108,
   "metadata": {},
   "outputs": [],
   "source": [
    "# mean = close.mean()\n",
    "# std = close.std()  # Стандартная девиация\n",
    "# best_fit_line = stats.norm.pdf(buckets, mean, std, normed=1)\n",
    "# plt.plot(buckets, best_fit_line, 'red')  # Нормальное распределение рисуем красной линией\n",
    "# plt.hist(close, 50)\n",
    "# plt.show()"
   ]
  },
  {
   "cell_type": "markdown",
   "metadata": {},
   "source": [
    "Нормализация данных  (normed=1) не удалась.  \n",
    "В будущем нужно вернуться к этому вопросу."
   ]
  },
  {
   "cell_type": "markdown",
   "metadata": {},
   "source": [
    "## Проверяем как выглядит нормальное распределение для недельных графиков."
   ]
  },
  {
   "cell_type": "code",
   "execution_count": 109,
   "metadata": {},
   "outputs": [
    {
     "data": {
      "text/plain": [
       "DatetimeIndex(['2000-07-09', '2000-07-16', '2000-07-23', '2000-07-30',\n",
       "               '2000-08-06', '2000-08-13', '2000-08-20', '2000-08-27',\n",
       "               '2000-09-03', '2000-09-10',\n",
       "               ...\n",
       "               '2018-04-08', '2018-04-15', '2018-04-22', '2018-04-29',\n",
       "               '2018-05-06', '2018-05-13', '2018-05-20', '2018-05-27',\n",
       "               '2018-06-03', '2018-06-10'],\n",
       "              dtype='datetime64[ns]', length=936, freq='W-SUN')"
      ]
     },
     "execution_count": 109,
     "metadata": {},
     "output_type": "execute_result"
    }
   ],
   "source": [
    "spx = load_prices('../data/^spx_d.csv')\n",
    "spx = spx[['Close']]  # В 'spx' оставляем только колонку 'Close'\n",
    "min_date = spx.index.min()  # Минимальное значение в данных по индексу, а в индексе у нас время\n",
    "max_date = spx.index.max()  # Максимальное значение в данных по индексу\n",
    "weekend_index = pd.date_range(min_date, max_date, freq=\"W\")\n",
    "weekend_index"
   ]
  },
  {
   "cell_type": "markdown",
   "metadata": {},
   "source": [
    "Надо все даты подвинуть на один день т.к. старт с воскресенья нас не устраивает"
   ]
  },
  {
   "cell_type": "code",
   "execution_count": 110,
   "metadata": {},
   "outputs": [
    {
     "data": {
      "text/plain": [
       "DatetimeIndex(['2000-07-10', '2000-07-17', '2000-07-24', '2000-07-31',\n",
       "               '2000-08-07', '2000-08-14', '2000-08-21', '2000-08-28',\n",
       "               '2000-09-04', '2000-09-11',\n",
       "               ...\n",
       "               '2018-04-09', '2018-04-16', '2018-04-23', '2018-04-30',\n",
       "               '2018-05-07', '2018-05-14', '2018-05-21', '2018-05-28',\n",
       "               '2018-06-04', '2018-06-11'],\n",
       "              dtype='datetime64[ns]', length=936, freq='W-MON')"
      ]
     },
     "execution_count": 110,
     "metadata": {},
     "output_type": "execute_result"
    }
   ],
   "source": [
    "# Сдвигаем на 1 день\n",
    "weekstart_index = weekend_index.shift(1, freq=\"D\")\n",
    "weekstart_index"
   ]
  },
  {
   "cell_type": "markdown",
   "metadata": {},
   "source": [
    "Делаем переиндексацию"
   ]
  },
  {
   "cell_type": "code",
   "execution_count": 111,
   "metadata": {},
   "outputs": [
    {
     "data": {
      "text/html": [
       "<div>\n",
       "<style scoped>\n",
       "    .dataframe tbody tr th:only-of-type {\n",
       "        vertical-align: middle;\n",
       "    }\n",
       "\n",
       "    .dataframe tbody tr th {\n",
       "        vertical-align: top;\n",
       "    }\n",
       "\n",
       "    .dataframe thead th {\n",
       "        text-align: right;\n",
       "    }\n",
       "</style>\n",
       "<table border=\"1\" class=\"dataframe\">\n",
       "  <thead>\n",
       "    <tr style=\"text-align: right;\">\n",
       "      <th></th>\n",
       "      <th>Close</th>\n",
       "    </tr>\n",
       "  </thead>\n",
       "  <tbody>\n",
       "    <tr>\n",
       "      <th>2000-07-10</th>\n",
       "      <td>1475.62</td>\n",
       "    </tr>\n",
       "    <tr>\n",
       "      <th>2000-07-17</th>\n",
       "      <td>1510.49</td>\n",
       "    </tr>\n",
       "    <tr>\n",
       "      <th>2000-07-24</th>\n",
       "      <td>1464.29</td>\n",
       "    </tr>\n",
       "    <tr>\n",
       "      <th>2000-07-31</th>\n",
       "      <td>1430.83</td>\n",
       "    </tr>\n",
       "    <tr>\n",
       "      <th>2000-08-07</th>\n",
       "      <td>1479.32</td>\n",
       "    </tr>\n",
       "    <tr>\n",
       "      <th>...</th>\n",
       "      <td>...</td>\n",
       "    </tr>\n",
       "    <tr>\n",
       "      <th>2018-05-14</th>\n",
       "      <td>2730.13</td>\n",
       "    </tr>\n",
       "    <tr>\n",
       "      <th>2018-05-21</th>\n",
       "      <td>2733.01</td>\n",
       "    </tr>\n",
       "    <tr>\n",
       "      <th>2018-05-28</th>\n",
       "      <td>NaN</td>\n",
       "    </tr>\n",
       "    <tr>\n",
       "      <th>2018-06-04</th>\n",
       "      <td>2746.87</td>\n",
       "    </tr>\n",
       "    <tr>\n",
       "      <th>2018-06-11</th>\n",
       "      <td>2782.00</td>\n",
       "    </tr>\n",
       "  </tbody>\n",
       "</table>\n",
       "<p>936 rows × 1 columns</p>\n",
       "</div>"
      ],
      "text/plain": [
       "              Close\n",
       "2000-07-10  1475.62\n",
       "2000-07-17  1510.49\n",
       "2000-07-24  1464.29\n",
       "2000-07-31  1430.83\n",
       "2000-08-07  1479.32\n",
       "...             ...\n",
       "2018-05-14  2730.13\n",
       "2018-05-21  2733.01\n",
       "2018-05-28      NaN\n",
       "2018-06-04  2746.87\n",
       "2018-06-11  2782.00\n",
       "\n",
       "[936 rows x 1 columns]"
      ]
     },
     "execution_count": 111,
     "metadata": {},
     "output_type": "execute_result"
    }
   ],
   "source": [
    "spx_w = spx.reindex(weekstart_index)\n",
    "spx_w"
   ]
  },
  {
   "cell_type": "markdown",
   "metadata": {},
   "source": [
    "Есть значения \"NaN\". Уберем их."
   ]
  },
  {
   "cell_type": "code",
   "execution_count": 112,
   "metadata": {},
   "outputs": [
    {
     "data": {
      "text/html": [
       "<div>\n",
       "<style scoped>\n",
       "    .dataframe tbody tr th:only-of-type {\n",
       "        vertical-align: middle;\n",
       "    }\n",
       "\n",
       "    .dataframe tbody tr th {\n",
       "        vertical-align: top;\n",
       "    }\n",
       "\n",
       "    .dataframe thead th {\n",
       "        text-align: right;\n",
       "    }\n",
       "</style>\n",
       "<table border=\"1\" class=\"dataframe\">\n",
       "  <thead>\n",
       "    <tr style=\"text-align: right;\">\n",
       "      <th></th>\n",
       "      <th>Close</th>\n",
       "    </tr>\n",
       "  </thead>\n",
       "  <tbody>\n",
       "    <tr>\n",
       "      <th>2000-07-10</th>\n",
       "      <td>1475.62</td>\n",
       "    </tr>\n",
       "    <tr>\n",
       "      <th>2000-07-17</th>\n",
       "      <td>1510.49</td>\n",
       "    </tr>\n",
       "    <tr>\n",
       "      <th>2000-07-24</th>\n",
       "      <td>1464.29</td>\n",
       "    </tr>\n",
       "    <tr>\n",
       "      <th>2000-07-31</th>\n",
       "      <td>1430.83</td>\n",
       "    </tr>\n",
       "    <tr>\n",
       "      <th>2000-08-07</th>\n",
       "      <td>1479.32</td>\n",
       "    </tr>\n",
       "    <tr>\n",
       "      <th>...</th>\n",
       "      <td>...</td>\n",
       "    </tr>\n",
       "    <tr>\n",
       "      <th>2018-05-07</th>\n",
       "      <td>2672.63</td>\n",
       "    </tr>\n",
       "    <tr>\n",
       "      <th>2018-05-14</th>\n",
       "      <td>2730.13</td>\n",
       "    </tr>\n",
       "    <tr>\n",
       "      <th>2018-05-21</th>\n",
       "      <td>2733.01</td>\n",
       "    </tr>\n",
       "    <tr>\n",
       "      <th>2018-06-04</th>\n",
       "      <td>2746.87</td>\n",
       "    </tr>\n",
       "    <tr>\n",
       "      <th>2018-06-11</th>\n",
       "      <td>2782.00</td>\n",
       "    </tr>\n",
       "  </tbody>\n",
       "</table>\n",
       "<p>846 rows × 1 columns</p>\n",
       "</div>"
      ],
      "text/plain": [
       "              Close\n",
       "2000-07-10  1475.62\n",
       "2000-07-17  1510.49\n",
       "2000-07-24  1464.29\n",
       "2000-07-31  1430.83\n",
       "2000-08-07  1479.32\n",
       "...             ...\n",
       "2018-05-07  2672.63\n",
       "2018-05-14  2730.13\n",
       "2018-05-21  2733.01\n",
       "2018-06-04  2746.87\n",
       "2018-06-11  2782.00\n",
       "\n",
       "[846 rows x 1 columns]"
      ]
     },
     "execution_count": 112,
     "metadata": {},
     "output_type": "execute_result"
    }
   ],
   "source": [
    "spx_w = spx_w.dropna()\n",
    "spx_w"
   ]
  },
  {
   "cell_type": "markdown",
   "metadata": {},
   "source": [
    "Потерялось много данных.  \n",
    "Попробуем избавиться от \"NaN\" смещением на 2 дня."
   ]
  },
  {
   "cell_type": "code",
   "execution_count": 113,
   "metadata": {},
   "outputs": [
    {
     "data": {
      "text/html": [
       "<div>\n",
       "<style scoped>\n",
       "    .dataframe tbody tr th:only-of-type {\n",
       "        vertical-align: middle;\n",
       "    }\n",
       "\n",
       "    .dataframe tbody tr th {\n",
       "        vertical-align: top;\n",
       "    }\n",
       "\n",
       "    .dataframe thead th {\n",
       "        text-align: right;\n",
       "    }\n",
       "</style>\n",
       "<table border=\"1\" class=\"dataframe\">\n",
       "  <thead>\n",
       "    <tr style=\"text-align: right;\">\n",
       "      <th></th>\n",
       "      <th>Close</th>\n",
       "    </tr>\n",
       "  </thead>\n",
       "  <tbody>\n",
       "    <tr>\n",
       "      <th>2000-07-11</th>\n",
       "      <td>1480.88</td>\n",
       "    </tr>\n",
       "    <tr>\n",
       "      <th>2000-07-18</th>\n",
       "      <td>1493.74</td>\n",
       "    </tr>\n",
       "    <tr>\n",
       "      <th>2000-07-25</th>\n",
       "      <td>1474.47</td>\n",
       "    </tr>\n",
       "    <tr>\n",
       "      <th>2000-08-01</th>\n",
       "      <td>1438.10</td>\n",
       "    </tr>\n",
       "    <tr>\n",
       "      <th>2000-08-08</th>\n",
       "      <td>1482.80</td>\n",
       "    </tr>\n",
       "    <tr>\n",
       "      <th>...</th>\n",
       "      <td>...</td>\n",
       "    </tr>\n",
       "    <tr>\n",
       "      <th>2018-05-15</th>\n",
       "      <td>2711.45</td>\n",
       "    </tr>\n",
       "    <tr>\n",
       "      <th>2018-05-22</th>\n",
       "      <td>2724.44</td>\n",
       "    </tr>\n",
       "    <tr>\n",
       "      <th>2018-05-29</th>\n",
       "      <td>2689.86</td>\n",
       "    </tr>\n",
       "    <tr>\n",
       "      <th>2018-06-05</th>\n",
       "      <td>2748.80</td>\n",
       "    </tr>\n",
       "    <tr>\n",
       "      <th>2018-06-12</th>\n",
       "      <td>2786.85</td>\n",
       "    </tr>\n",
       "  </tbody>\n",
       "</table>\n",
       "<p>925 rows × 1 columns</p>\n",
       "</div>"
      ],
      "text/plain": [
       "              Close\n",
       "2000-07-11  1480.88\n",
       "2000-07-18  1493.74\n",
       "2000-07-25  1474.47\n",
       "2000-08-01  1438.10\n",
       "2000-08-08  1482.80\n",
       "...             ...\n",
       "2018-05-15  2711.45\n",
       "2018-05-22  2724.44\n",
       "2018-05-29  2689.86\n",
       "2018-06-05  2748.80\n",
       "2018-06-12  2786.85\n",
       "\n",
       "[925 rows x 1 columns]"
      ]
     },
     "execution_count": 113,
     "metadata": {},
     "output_type": "execute_result"
    }
   ],
   "source": [
    "weekstart_index = weekend_index.shift(2, freq=\"D\")\n",
    "spx_w = spx.reindex(weekstart_index)\n",
    "spx_w = spx_w.dropna()\n",
    "spx_w"
   ]
  },
  {
   "cell_type": "markdown",
   "metadata": {},
   "source": [
    "При смещении на 2 дня получилось 925 против 846. Это намного лучше.\n",
    "* * *"
   ]
  },
  {
   "cell_type": "markdown",
   "metadata": {},
   "source": [
    "Делаем всё тоже самое, что и для предыдущих (дневных значений)"
   ]
  },
  {
   "cell_type": "code",
   "execution_count": 114,
   "metadata": {},
   "outputs": [
    {
     "data": {
      "image/png": "[encoded data removed]",
      "text/plain": [
       "<Figure size 1152x864 with 1 Axes>"
      ]
     },
     "metadata": {
      "needs_background": "light"
     },
     "output_type": "display_data"
    }
   ],
   "source": [
    "spx_w = spx_w.assign(Pct_change=spx_w.pct_change())  # Добавляем колонку процентного изменения\n",
    "close = spx_w['Pct_change'].values[1:]  # Берем срез без первого элемента т.к. он 'NaN'\n",
    "n, buckets, patches = plt.hist(close, 50)\n",
    "mean = close.mean()  # Среднее значение\n",
    "std = close.std()  # Стандартная девиация (стандартное отклонение)\n",
    "best_fit_line = stats.norm.pdf(buckets, mean, std)\n",
    "plt.plot(buckets, best_fit_line, 'y--')\n",
    "plt.show()"
   ]
  },
  {
   "cell_type": "markdown",
   "metadata": {},
   "source": [
    "Недельные данные относительно нормального распределения выгледят лучше"
   ]
  },
  {
   "cell_type": "markdown",
   "metadata": {},
   "source": [
    "## Теперь сделаем распределение по Гауссу"
   ]
  },
  {
   "cell_type": "code",
   "execution_count": 115,
   "metadata": {},
   "outputs": [],
   "source": [
    "import numpy as np"
   ]
  },
  {
   "cell_type": "code",
   "execution_count": 116,
   "metadata": {},
   "outputs": [],
   "source": [
    "# Не работает нормально в связи с обновлением\n",
    "\n",
    "# normal_dist = np.random.normal(mean, std, 5000)  # Нормальное распределение\n",
    "# n_nd, buckets_nd, patches_nd = plt.hist(normal_dist, 50)\n",
    "\n",
    "# mean = close.mean()  # Среднее значение\n",
    "# std = close.std()  # Стандартная девиация (стандартное отклонение)\n",
    "\n",
    "# best_fit_line_nd = stats.norm.pdf(normal_dist, mean, std)\n",
    "# plt.plot(buckets, best_fit_line_nd, 'y--')\n",
    "# plt.show()"
   ]
  },
  {
   "cell_type": "code",
   "execution_count": 117,
   "metadata": {},
   "outputs": [
    {
     "ename": "TypeError",
     "evalue": "hist() missing 1 required positional argument: 'x'",
     "output_type": "error",
     "traceback": [
      "\u001b[1;31m---------------------------------------------------------------------------\u001b[0m",
      "\u001b[1;31mTypeError\u001b[0m                                 Traceback (most recent call last)",
      "\u001b[1;32m<ipython-input-117-0e1527b42489>\u001b[0m in \u001b[0;36m<module>\u001b[1;34m\u001b[0m\n\u001b[1;32m----> 1\u001b[1;33m \u001b[0mn_nd\u001b[0m\u001b[1;33m,\u001b[0m \u001b[0mbuckets_nd\u001b[0m\u001b[1;33m,\u001b[0m \u001b[0mpatches_nd\u001b[0m \u001b[1;33m=\u001b[0m \u001b[0mplt\u001b[0m\u001b[1;33m.\u001b[0m\u001b[0mhist\u001b[0m\u001b[1;33m(\u001b[0m\u001b[1;33m)\u001b[0m\u001b[1;33m\u001b[0m\u001b[1;33m\u001b[0m\u001b[0m\n\u001b[0m",
      "\u001b[1;31mTypeError\u001b[0m: hist() missing 1 required positional argument: 'x'"
     ]
    }
   ],
   "source": [
    "n_nd, buckets_nd, patches_nd = plt.hist()"
   ]
  }
 ],
 "metadata": {
  "kernelspec": {
   "display_name": "Python 3",
   "language": "python",
   "name": "python3"
  },
  "language_info": {
   "codemirror_mode": {
    "name": "ipython",
    "version": 3
   },
   "file_extension": ".py",
   "mimetype": "text/x-python",
   "name": "python",
   "nbconvert_exporter": "python",
   "pygments_lexer": "ipython3",
   "version": "3.8.3"
  }
 },
 "nbformat": 4,
 "nbformat_minor": 4
}
