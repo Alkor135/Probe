{
 "cells": [
  {
   "cell_type": "markdown",
   "metadata": {},
   "source": [
    "# Построение графика нефти и USD/RUB из csv файла"
   ]
  },
  {
   "cell_type": "markdown",
   "metadata": {},
   "source": [
    "Импортируем нужные библиотеки"
   ]
  },
  {
   "cell_type": "code",
   "execution_count": 1,
   "metadata": {},
   "outputs": [],
   "source": [
    "import pandas as pd\n",
    "import numpy as np\n",
    "\n",
    "# %matplotlib  # Для отображения в отдельном окне построений matplotlib\n",
    "# %matplotlib notebook  # Для интерактивного графика внутри ноутбука\n",
    "\n",
    "import matplotlib.pyplot as plt"
   ]
  },
  {
   "cell_type": "markdown",
   "metadata": {},
   "source": [
    "Загружаем данные"
   ]
  },
  {
   "cell_type": "code",
   "execution_count": 2,
   "metadata": {},
   "outputs": [
    {
     "data": {
      "text/html": [
       "<div>\n",
       "<style scoped>\n",
       "    .dataframe tbody tr th:only-of-type {\n",
       "        vertical-align: middle;\n",
       "    }\n",
       "\n",
       "    .dataframe tbody tr th {\n",
       "        vertical-align: top;\n",
       "    }\n",
       "\n",
       "    .dataframe thead th {\n",
       "        text-align: right;\n",
       "    }\n",
       "</style>\n",
       "<table border=\"1\" class=\"dataframe\">\n",
       "  <thead>\n",
       "    <tr style=\"text-align: right;\">\n",
       "      <th></th>\n",
       "      <th>Date</th>\n",
       "      <th>Price</th>\n",
       "    </tr>\n",
       "  </thead>\n",
       "  <tbody>\n",
       "    <tr>\n",
       "      <th>0</th>\n",
       "      <td>11-Jun-18</td>\n",
       "      <td>66.10</td>\n",
       "    </tr>\n",
       "    <tr>\n",
       "      <th>1</th>\n",
       "      <td>8-Jun-18</td>\n",
       "      <td>65.77</td>\n",
       "    </tr>\n",
       "    <tr>\n",
       "      <th>2</th>\n",
       "      <td>7-Jun-18</td>\n",
       "      <td>65.96</td>\n",
       "    </tr>\n",
       "    <tr>\n",
       "      <th>3</th>\n",
       "      <td>6-Jun-18</td>\n",
       "      <td>64.75</td>\n",
       "    </tr>\n",
       "    <tr>\n",
       "      <th>4</th>\n",
       "      <td>5-Jun-18</td>\n",
       "      <td>65.51</td>\n",
       "    </tr>\n",
       "    <tr>\n",
       "      <th>...</th>\n",
       "      <td>...</td>\n",
       "      <td>...</td>\n",
       "    </tr>\n",
       "    <tr>\n",
       "      <th>2120</th>\n",
       "      <td>8-Jan-10</td>\n",
       "      <td>82.74</td>\n",
       "    </tr>\n",
       "    <tr>\n",
       "      <th>2121</th>\n",
       "      <td>7-Jan-10</td>\n",
       "      <td>82.60</td>\n",
       "    </tr>\n",
       "    <tr>\n",
       "      <th>2122</th>\n",
       "      <td>6-Jan-10</td>\n",
       "      <td>83.12</td>\n",
       "    </tr>\n",
       "    <tr>\n",
       "      <th>2123</th>\n",
       "      <td>5-Jan-10</td>\n",
       "      <td>81.74</td>\n",
       "    </tr>\n",
       "    <tr>\n",
       "      <th>2124</th>\n",
       "      <td>4-Jan-10</td>\n",
       "      <td>81.52</td>\n",
       "    </tr>\n",
       "  </tbody>\n",
       "</table>\n",
       "<p>2125 rows × 2 columns</p>\n",
       "</div>"
      ],
      "text/plain": [
       "           Date  Price\n",
       "0     11-Jun-18  66.10\n",
       "1      8-Jun-18  65.77\n",
       "2      7-Jun-18  65.96\n",
       "3      6-Jun-18  64.75\n",
       "4      5-Jun-18  65.51\n",
       "...         ...    ...\n",
       "2120   8-Jan-10  82.74\n",
       "2121   7-Jan-10  82.60\n",
       "2122   6-Jan-10  83.12\n",
       "2123   5-Jan-10  81.74\n",
       "2124   4-Jan-10  81.52\n",
       "\n",
       "[2125 rows x 2 columns]"
      ]
     },
     "execution_count": 2,
     "metadata": {},
     "output_type": "execute_result"
    }
   ],
   "source": [
    "oil = pd.read_csv('../data/oilPrices.csv')  # загружаем файл oilPrice.csv\n",
    "oil"
   ]
  },
  {
   "cell_type": "code",
   "execution_count": 3,
   "metadata": {},
   "outputs": [
    {
     "data": {
      "text/html": [
       "<div>\n",
       "<style scoped>\n",
       "    .dataframe tbody tr th:only-of-type {\n",
       "        vertical-align: middle;\n",
       "    }\n",
       "\n",
       "    .dataframe tbody tr th {\n",
       "        vertical-align: top;\n",
       "    }\n",
       "\n",
       "    .dataframe thead th {\n",
       "        text-align: right;\n",
       "    }\n",
       "</style>\n",
       "<table border=\"1\" class=\"dataframe\">\n",
       "  <thead>\n",
       "    <tr style=\"text-align: right;\">\n",
       "      <th></th>\n",
       "      <th>Date</th>\n",
       "      <th>Price</th>\n",
       "    </tr>\n",
       "    <tr>\n",
       "      <th>Date</th>\n",
       "      <th></th>\n",
       "      <th></th>\n",
       "    </tr>\n",
       "  </thead>\n",
       "  <tbody>\n",
       "    <tr>\n",
       "      <th>11-Jun-18</th>\n",
       "      <td>11-Jun-18</td>\n",
       "      <td>66.10</td>\n",
       "    </tr>\n",
       "    <tr>\n",
       "      <th>8-Jun-18</th>\n",
       "      <td>8-Jun-18</td>\n",
       "      <td>65.77</td>\n",
       "    </tr>\n",
       "    <tr>\n",
       "      <th>7-Jun-18</th>\n",
       "      <td>7-Jun-18</td>\n",
       "      <td>65.96</td>\n",
       "    </tr>\n",
       "    <tr>\n",
       "      <th>6-Jun-18</th>\n",
       "      <td>6-Jun-18</td>\n",
       "      <td>64.75</td>\n",
       "    </tr>\n",
       "    <tr>\n",
       "      <th>5-Jun-18</th>\n",
       "      <td>5-Jun-18</td>\n",
       "      <td>65.51</td>\n",
       "    </tr>\n",
       "    <tr>\n",
       "      <th>...</th>\n",
       "      <td>...</td>\n",
       "      <td>...</td>\n",
       "    </tr>\n",
       "    <tr>\n",
       "      <th>8-Jan-10</th>\n",
       "      <td>8-Jan-10</td>\n",
       "      <td>82.74</td>\n",
       "    </tr>\n",
       "    <tr>\n",
       "      <th>7-Jan-10</th>\n",
       "      <td>7-Jan-10</td>\n",
       "      <td>82.60</td>\n",
       "    </tr>\n",
       "    <tr>\n",
       "      <th>6-Jan-10</th>\n",
       "      <td>6-Jan-10</td>\n",
       "      <td>83.12</td>\n",
       "    </tr>\n",
       "    <tr>\n",
       "      <th>5-Jan-10</th>\n",
       "      <td>5-Jan-10</td>\n",
       "      <td>81.74</td>\n",
       "    </tr>\n",
       "    <tr>\n",
       "      <th>4-Jan-10</th>\n",
       "      <td>4-Jan-10</td>\n",
       "      <td>81.52</td>\n",
       "    </tr>\n",
       "  </tbody>\n",
       "</table>\n",
       "<p>2125 rows × 2 columns</p>\n",
       "</div>"
      ],
      "text/plain": [
       "                Date  Price\n",
       "Date                       \n",
       "11-Jun-18  11-Jun-18  66.10\n",
       "8-Jun-18    8-Jun-18  65.77\n",
       "7-Jun-18    7-Jun-18  65.96\n",
       "6-Jun-18    6-Jun-18  64.75\n",
       "5-Jun-18    5-Jun-18  65.51\n",
       "...              ...    ...\n",
       "8-Jan-10    8-Jan-10  82.74\n",
       "7-Jan-10    7-Jan-10  82.60\n",
       "6-Jan-10    6-Jan-10  83.12\n",
       "5-Jan-10    5-Jan-10  81.74\n",
       "4-Jan-10    4-Jan-10  81.52\n",
       "\n",
       "[2125 rows x 2 columns]"
      ]
     },
     "execution_count": 3,
     "metadata": {},
     "output_type": "execute_result"
    }
   ],
   "source": [
    "oil = oil.set_index(oil['Date'])  # Меняем индекс (чтобы индексом стала дата)\n",
    "# oil = oil.set_index(pd.DatetimeIndex(oil['Date']))  # Меняем индекс и делаем её типом date\n",
    "oil"
   ]
  },
  {
   "cell_type": "markdown",
   "metadata": {},
   "source": [
    "Получилось две колонки с датами.\n",
    "Нужно колонку с датой, которая не является индексо удалить."
   ]
  },
  {
   "cell_type": "code",
   "execution_count": 4,
   "metadata": {},
   "outputs": [
    {
     "data": {
      "text/html": [
       "<div>\n",
       "<style scoped>\n",
       "    .dataframe tbody tr th:only-of-type {\n",
       "        vertical-align: middle;\n",
       "    }\n",
       "\n",
       "    .dataframe tbody tr th {\n",
       "        vertical-align: top;\n",
       "    }\n",
       "\n",
       "    .dataframe thead th {\n",
       "        text-align: right;\n",
       "    }\n",
       "</style>\n",
       "<table border=\"1\" class=\"dataframe\">\n",
       "  <thead>\n",
       "    <tr style=\"text-align: right;\">\n",
       "      <th></th>\n",
       "      <th>Price</th>\n",
       "    </tr>\n",
       "    <tr>\n",
       "      <th>Date</th>\n",
       "      <th></th>\n",
       "    </tr>\n",
       "  </thead>\n",
       "  <tbody>\n",
       "    <tr>\n",
       "      <th>11-Jun-18</th>\n",
       "      <td>66.10</td>\n",
       "    </tr>\n",
       "    <tr>\n",
       "      <th>8-Jun-18</th>\n",
       "      <td>65.77</td>\n",
       "    </tr>\n",
       "    <tr>\n",
       "      <th>7-Jun-18</th>\n",
       "      <td>65.96</td>\n",
       "    </tr>\n",
       "    <tr>\n",
       "      <th>6-Jun-18</th>\n",
       "      <td>64.75</td>\n",
       "    </tr>\n",
       "    <tr>\n",
       "      <th>5-Jun-18</th>\n",
       "      <td>65.51</td>\n",
       "    </tr>\n",
       "    <tr>\n",
       "      <th>...</th>\n",
       "      <td>...</td>\n",
       "    </tr>\n",
       "    <tr>\n",
       "      <th>8-Jan-10</th>\n",
       "      <td>82.74</td>\n",
       "    </tr>\n",
       "    <tr>\n",
       "      <th>7-Jan-10</th>\n",
       "      <td>82.60</td>\n",
       "    </tr>\n",
       "    <tr>\n",
       "      <th>6-Jan-10</th>\n",
       "      <td>83.12</td>\n",
       "    </tr>\n",
       "    <tr>\n",
       "      <th>5-Jan-10</th>\n",
       "      <td>81.74</td>\n",
       "    </tr>\n",
       "    <tr>\n",
       "      <th>4-Jan-10</th>\n",
       "      <td>81.52</td>\n",
       "    </tr>\n",
       "  </tbody>\n",
       "</table>\n",
       "<p>2125 rows × 1 columns</p>\n",
       "</div>"
      ],
      "text/plain": [
       "           Price\n",
       "Date            \n",
       "11-Jun-18  66.10\n",
       "8-Jun-18   65.77\n",
       "7-Jun-18   65.96\n",
       "6-Jun-18   64.75\n",
       "5-Jun-18   65.51\n",
       "...          ...\n",
       "8-Jan-10   82.74\n",
       "7-Jan-10   82.60\n",
       "6-Jan-10   83.12\n",
       "5-Jan-10   81.74\n",
       "4-Jan-10   81.52\n",
       "\n",
       "[2125 rows x 1 columns]"
      ]
     },
     "execution_count": 4,
     "metadata": {},
     "output_type": "execute_result"
    }
   ],
   "source": [
    "oil = oil.drop('Date', 1)  # Удаляем ненужную колонку. 1 означает, что отбрасываем колонку а не индекс\n",
    "oil"
   ]
  },
  {
   "cell_type": "code",
   "execution_count": 5,
   "metadata": {},
   "outputs": [
    {
     "data": {
      "text/plain": [
       "Index(['11-Jun-18', '8-Jun-18', '7-Jun-18', '6-Jun-18', '5-Jun-18', '4-Jun-18',\n",
       "       '1-Jun-18', '31-May-18', '30-May-18', '29-May-18',\n",
       "       ...\n",
       "       '15-Jan-10', '14-Jan-10', '13-Jan-10', '12-Jan-10', '11-Jan-10',\n",
       "       '8-Jan-10', '7-Jan-10', '6-Jan-10', '5-Jan-10', '4-Jan-10'],\n",
       "      dtype='object', name='Date', length=2125)"
      ]
     },
     "execution_count": 5,
     "metadata": {},
     "output_type": "execute_result"
    }
   ],
   "source": [
    "oil.index  # Посмотрим, что у нас в индексе"
   ]
  },
  {
   "cell_type": "markdown",
   "metadata": {},
   "source": [
    "В индексе объекты строк (str)\n",
    "Нужно поменять на тип date"
   ]
  },
  {
   "cell_type": "code",
   "execution_count": 6,
   "metadata": {},
   "outputs": [
    {
     "data": {
      "text/plain": [
       "DatetimeIndex(['2018-06-11', '2018-06-08', '2018-06-07', '2018-06-06',\n",
       "               '2018-06-05', '2018-06-04', '2018-06-01', '2018-05-31',\n",
       "               '2018-05-30', '2018-05-29',\n",
       "               ...\n",
       "               '2010-01-15', '2010-01-14', '2010-01-13', '2010-01-12',\n",
       "               '2010-01-11', '2010-01-08', '2010-01-07', '2010-01-06',\n",
       "               '2010-01-05', '2010-01-04'],\n",
       "              dtype='datetime64[ns]', name='Date', length=2125, freq=None)"
      ]
     },
     "execution_count": 6,
     "metadata": {},
     "output_type": "execute_result"
    }
   ],
   "source": [
    "oil.index = pd.to_datetime(oil.index)  # Меняем индекс на тип date\n",
    "oil.index"
   ]
  },
  {
   "cell_type": "markdown",
   "metadata": {},
   "source": [
    "Теперь в индексе тип date\n",
    "* * *"
   ]
  },
  {
   "cell_type": "markdown",
   "metadata": {},
   "source": [
    "__Строим график__  \n",
    "ось Х - это индекс (дата)  \n",
    "ось Y - это цена  "
   ]
  },
  {
   "cell_type": "code",
   "execution_count": 7,
   "metadata": {},
   "outputs": [
    {
     "data": {
      "image/png": "[encoded data removed]",
      "text/plain": [
       "<Figure size 432x288 with 1 Axes>"
      ]
     },
     "metadata": {
      "needs_background": "light"
     },
     "output_type": "display_data"
    }
   ],
   "source": [
    "# ось Х\n",
    "x_axis = oil.index\n",
    "# ось Y\n",
    "y_axis = oil['Price'].values\n",
    "\n",
    "plt.plot(x_axis, y_axis, color='blue', label='Oil Price')\n",
    "plt.legend()\n",
    "plt.show()"
   ]
  },
  {
   "cell_type": "markdown",
   "metadata": {},
   "source": [
    "При построении нескольких инструментов будет повторение кода. Чтобы этого избежать пишем функцию."
   ]
  },
  {
   "cell_type": "code",
   "execution_count": 8,
   "metadata": {},
   "outputs": [],
   "source": [
    "def load_prices(file_name):\n",
    "    \"\"\"Функция считывает данные из принятого на вход файла. Возвращает DF\"\"\"\n",
    "    data = pd.read_csv(file_name)  # Читам файл в DF\n",
    "    data = data.set_index(pd.DatetimeIndex(data['Date']))  # Меняем индекс и тип индекса\n",
    "    data = data.drop('Date', 1)  # Удаляем не нужный столбец\n",
    "    return data"
   ]
  },
  {
   "cell_type": "markdown",
   "metadata": {},
   "source": [
    "Проверим работу функции"
   ]
  },
  {
   "cell_type": "code",
   "execution_count": 9,
   "metadata": {},
   "outputs": [
    {
     "data": {
      "image/png": "[encoded data removed]",
      "text/plain": [
       "<Figure size 432x288 with 1 Axes>"
      ]
     },
     "metadata": {
      "needs_background": "light"
     },
     "output_type": "display_data"
    }
   ],
   "source": [
    "oil = load_prices('../data/oilPrices.csv')  # Вызываем функцию загрузки файла\n",
    "\n",
    "# ось Х\n",
    "x_axis = oil.index\n",
    "# ось Y\n",
    "y_axis = oil['Price'].values\n",
    "\n",
    "# Строим график по данным из вызываемой функции\n",
    "plt.plot(x_axis, y_axis, color='red', label='Oil Price')\n",
    "plt.legend()\n",
    "plt.show()"
   ]
  },
  {
   "cell_type": "markdown",
   "metadata": {},
   "source": [
    "Теперь считываем и загружаем данные в DF из двух файлов"
   ]
  },
  {
   "cell_type": "code",
   "execution_count": 10,
   "metadata": {},
   "outputs": [
    {
     "data": {
      "text/html": [
       "<div>\n",
       "<style scoped>\n",
       "    .dataframe tbody tr th:only-of-type {\n",
       "        vertical-align: middle;\n",
       "    }\n",
       "\n",
       "    .dataframe tbody tr th {\n",
       "        vertical-align: top;\n",
       "    }\n",
       "\n",
       "    .dataframe thead th {\n",
       "        text-align: right;\n",
       "    }\n",
       "</style>\n",
       "<table border=\"1\" class=\"dataframe\">\n",
       "  <thead>\n",
       "    <tr style=\"text-align: right;\">\n",
       "      <th></th>\n",
       "      <th>Price</th>\n",
       "    </tr>\n",
       "    <tr>\n",
       "      <th>Date</th>\n",
       "      <th></th>\n",
       "    </tr>\n",
       "  </thead>\n",
       "  <tbody>\n",
       "    <tr>\n",
       "      <th>2018-06-15</th>\n",
       "      <td>63.1880</td>\n",
       "    </tr>\n",
       "    <tr>\n",
       "      <th>2018-06-14</th>\n",
       "      <td>62.6085</td>\n",
       "    </tr>\n",
       "    <tr>\n",
       "      <th>2018-06-13</th>\n",
       "      <td>62.5049</td>\n",
       "    </tr>\n",
       "    <tr>\n",
       "      <th>2018-06-11</th>\n",
       "      <td>62.8155</td>\n",
       "    </tr>\n",
       "    <tr>\n",
       "      <th>2018-06-09</th>\n",
       "      <td>62.5143</td>\n",
       "    </tr>\n",
       "    <tr>\n",
       "      <th>...</th>\n",
       "      <td>...</td>\n",
       "    </tr>\n",
       "    <tr>\n",
       "      <th>2010-01-08</th>\n",
       "      <td>29.8685</td>\n",
       "    </tr>\n",
       "    <tr>\n",
       "      <th>2010-01-07</th>\n",
       "      <td>30.1000</td>\n",
       "    </tr>\n",
       "    <tr>\n",
       "      <th>2010-01-06</th>\n",
       "      <td>30.1000</td>\n",
       "    </tr>\n",
       "    <tr>\n",
       "      <th>2010-01-05</th>\n",
       "      <td>30.1000</td>\n",
       "    </tr>\n",
       "    <tr>\n",
       "      <th>2010-01-04</th>\n",
       "      <td>30.3175</td>\n",
       "    </tr>\n",
       "  </tbody>\n",
       "</table>\n",
       "<p>2185 rows × 1 columns</p>\n",
       "</div>"
      ],
      "text/plain": [
       "              Price\n",
       "Date               \n",
       "2018-06-15  63.1880\n",
       "2018-06-14  62.6085\n",
       "2018-06-13  62.5049\n",
       "2018-06-11  62.8155\n",
       "2018-06-09  62.5143\n",
       "...             ...\n",
       "2010-01-08  29.8685\n",
       "2010-01-07  30.1000\n",
       "2010-01-06  30.1000\n",
       "2010-01-05  30.1000\n",
       "2010-01-04  30.3175\n",
       "\n",
       "[2185 rows x 1 columns]"
      ]
     },
     "execution_count": 10,
     "metadata": {},
     "output_type": "execute_result"
    }
   ],
   "source": [
    "oil = load_prices('../data/oilPrices.csv')  # Вызываем функцию загрузки файла oilPrices.csv\n",
    "usd_rub_price = load_prices('../data/usdPrices.csv')  # Вызываем функцию загрузки файла usdPrices.csv\n",
    "\n",
    "usd_rub_price  # Проверяем, что всё корректно загрузилось на новом DF (oil уже проверяли)"
   ]
  },
  {
   "cell_type": "markdown",
   "metadata": {},
   "source": [
    "Количество строк в новом DF (USD/RUB) отличается от DF (Oil). Проверим их длину"
   ]
  },
  {
   "cell_type": "code",
   "execution_count": 11,
   "metadata": {},
   "outputs": [
    {
     "name": "stdout",
     "output_type": "stream",
     "text": [
      "len(oil_y_axis)=2125\n",
      "len(rub_y_axis)=2185\n"
     ]
    }
   ],
   "source": [
    "# ось Х\n",
    "x_axis = oil.index\n",
    "# ось Y\n",
    "oil_y_axis = oil['Price'].values\n",
    "rub_y_axis = usd_rub_price['Price'].values\n",
    "\n",
    "print(f'{len(oil_y_axis)=}')\n",
    "print(f'{len(rub_y_axis)=}')"
   ]
  },
  {
   "cell_type": "markdown",
   "metadata": {},
   "source": [
    "Нужно привести индексы двух DF в соответствие друг другу. "
   ]
  },
  {
   "cell_type": "code",
   "execution_count": 12,
   "metadata": {},
   "outputs": [
    {
     "data": {
      "text/html": [
       "<div>\n",
       "<style scoped>\n",
       "    .dataframe tbody tr th:only-of-type {\n",
       "        vertical-align: middle;\n",
       "    }\n",
       "\n",
       "    .dataframe tbody tr th {\n",
       "        vertical-align: top;\n",
       "    }\n",
       "\n",
       "    .dataframe thead th {\n",
       "        text-align: right;\n",
       "    }\n",
       "</style>\n",
       "<table border=\"1\" class=\"dataframe\">\n",
       "  <thead>\n",
       "    <tr style=\"text-align: right;\">\n",
       "      <th></th>\n",
       "      <th>Price</th>\n",
       "    </tr>\n",
       "    <tr>\n",
       "      <th>Date</th>\n",
       "      <th></th>\n",
       "    </tr>\n",
       "  </thead>\n",
       "  <tbody>\n",
       "    <tr>\n",
       "      <th>2018-06-11</th>\n",
       "      <td>62.8155</td>\n",
       "    </tr>\n",
       "    <tr>\n",
       "      <th>2018-06-08</th>\n",
       "      <td>62.3193</td>\n",
       "    </tr>\n",
       "    <tr>\n",
       "      <th>2018-06-07</th>\n",
       "      <td>62.4179</td>\n",
       "    </tr>\n",
       "    <tr>\n",
       "      <th>2018-06-06</th>\n",
       "      <td>61.7848</td>\n",
       "    </tr>\n",
       "    <tr>\n",
       "      <th>2018-06-05</th>\n",
       "      <td>62.1456</td>\n",
       "    </tr>\n",
       "    <tr>\n",
       "      <th>...</th>\n",
       "      <td>...</td>\n",
       "    </tr>\n",
       "    <tr>\n",
       "      <th>2010-01-08</th>\n",
       "      <td>29.8685</td>\n",
       "    </tr>\n",
       "    <tr>\n",
       "      <th>2010-01-07</th>\n",
       "      <td>30.1000</td>\n",
       "    </tr>\n",
       "    <tr>\n",
       "      <th>2010-01-06</th>\n",
       "      <td>30.1000</td>\n",
       "    </tr>\n",
       "    <tr>\n",
       "      <th>2010-01-05</th>\n",
       "      <td>30.1000</td>\n",
       "    </tr>\n",
       "    <tr>\n",
       "      <th>2010-01-04</th>\n",
       "      <td>30.3175</td>\n",
       "    </tr>\n",
       "  </tbody>\n",
       "</table>\n",
       "<p>2125 rows × 1 columns</p>\n",
       "</div>"
      ],
      "text/plain": [
       "              Price\n",
       "Date               \n",
       "2018-06-11  62.8155\n",
       "2018-06-08  62.3193\n",
       "2018-06-07  62.4179\n",
       "2018-06-06  61.7848\n",
       "2018-06-05  62.1456\n",
       "...             ...\n",
       "2010-01-08  29.8685\n",
       "2010-01-07  30.1000\n",
       "2010-01-06  30.1000\n",
       "2010-01-05  30.1000\n",
       "2010-01-04  30.3175\n",
       "\n",
       "[2125 rows x 1 columns]"
      ]
     },
     "execution_count": 12,
     "metadata": {},
     "output_type": "execute_result"
    }
   ],
   "source": [
    "# Т.к. индекс нефти меньше индекса USD/RUB, будем его использовать для обоих графиков\n",
    "common_index = oil.index\n",
    "usd_rub_price = usd_rub_price.reindex(common_index)  # Реиндексируем usd_rub_price по common_index\n",
    "usd_rub_price  # Смотрим что получилось"
   ]
  },
  {
   "cell_type": "code",
   "execution_count": 13,
   "metadata": {},
   "outputs": [
    {
     "name": "stdout",
     "output_type": "stream",
     "text": [
      "20\n"
     ]
    }
   ],
   "source": [
    "# Проверка на присутствие \"NaN\" в DF usd_rub_price\n",
    "nan_usd_rub_price = usd_rub_price.isnull().sum().sum()\n",
    "print(nan_usd_rub_price)"
   ]
  },
  {
   "cell_type": "markdown",
   "metadata": {},
   "source": [
    "Всё получилось, но некоторые строки в DF usd_rub_price имеют значение \"NaN\". Значениям \"NaN\" будем присваивать предыдущие значения из DF"
   ]
  },
  {
   "cell_type": "code",
   "execution_count": 14,
   "metadata": {},
   "outputs": [
    {
     "name": "stdout",
     "output_type": "stream",
     "text": [
      "0\n"
     ]
    }
   ],
   "source": [
    "# Заполняем \"NaN\" предыдущими значениями\n",
    "usd_rub_price = usd_rub_price.fillna(method='backfill')\n",
    "\n",
    "# Проверка на присутствие \"NaN\" в DF usd_rub_price\n",
    "nan_usd_rub_price = usd_rub_price.isnull().sum().sum()\n",
    "print(nan_usd_rub_price)"
   ]
  },
  {
   "cell_type": "markdown",
   "metadata": {},
   "source": [
    "Всё хорошо, значений \"NaN\" нет в DF usd_rub_price\n",
    "* * *"
   ]
  },
  {
   "cell_type": "markdown",
   "metadata": {},
   "source": [
    "Проверим длины всех DF"
   ]
  },
  {
   "cell_type": "code",
   "execution_count": 15,
   "metadata": {},
   "outputs": [
    {
     "name": "stdout",
     "output_type": "stream",
     "text": [
      "len(oil_y_axis)=2125\n",
      "len(rub_y_axis)=2125\n",
      "len(common_index)=2125\n"
     ]
    }
   ],
   "source": [
    "# ось Х\n",
    "x_axis = common_index\n",
    "# ось Y\n",
    "oil_y_axis = oil['Price'].values\n",
    "rub_y_axis = usd_rub_price['Price'].values\n",
    "\n",
    "# Проверка длины всех значений\n",
    "print(f'{len(oil_y_axis)=}')\n",
    "print(f'{len(rub_y_axis)=}')\n",
    "print(f'{len(common_index)=}')"
   ]
  },
  {
   "cell_type": "markdown",
   "metadata": {},
   "source": [
    "Длины одинаковые. Рисуем оба графика."
   ]
  },
  {
   "cell_type": "code",
   "execution_count": 16,
   "metadata": {},
   "outputs": [
    {
     "data": {
      "image/png": "[encoded data removed]",
      "text/plain": [
       "<Figure size 432x288 with 1 Axes>"
      ]
     },
     "metadata": {
      "needs_background": "light"
     },
     "output_type": "display_data"
    }
   ],
   "source": [
    "plt.plot(x_axis, oil_y_axis, color='red', label='Oil Price')\n",
    "plt.plot(x_axis, rub_y_axis, color='blue', label='USD/RUB')\n",
    "plt.legend()\n",
    "plt.show()"
   ]
  },
  {
   "cell_type": "code",
   "execution_count": 17,
   "metadata": {},
   "outputs": [
    {
     "data": {
      "image/png": "[encoded data removed]",
      "text/plain": [
       "<Figure size 432x288 with 1 Axes>"
      ]
     },
     "metadata": {
      "needs_background": "light"
     },
     "output_type": "display_data"
    }
   ],
   "source": [
    "# Меняем график USD/RUB на пунктирно голубой\n",
    "plt.plot(x_axis, oil_y_axis, color='red', label='Oil Price')\n",
    "plt.plot(x_axis, rub_y_axis, 'b--', label='USD/RUB')\n",
    "plt.legend()\n",
    "plt.show()"
   ]
  },
  {
   "cell_type": "markdown",
   "metadata": {},
   "source": [
    "# Нормализация данных и графика"
   ]
  },
  {
   "cell_type": "markdown",
   "metadata": {},
   "source": [
    "На графике, который получился в итоге, движение цены начинается из разных точек. Это мешает анализу данных, ведь два графика в одном окне вывели для сравнения.  \n",
    "Нужно нормализовать данные. Для этого создадим функцию нормализации. Цена к которой нормализуем данные должна быть самая первая по времени. "
   ]
  },
  {
   "cell_type": "markdown",
   "metadata": {},
   "source": [
    "Пробуем получить самую первую цену по времени. Она находится в самом конце нашего DataFrame"
   ]
  },
  {
   "cell_type": "code",
   "execution_count": 18,
   "metadata": {},
   "outputs": [
    {
     "name": "stdout",
     "output_type": "stream",
     "text": [
      "price_at_t0_oil=81.52, price_at_t0_usd_rub_price=30.3175\n"
     ]
    }
   ],
   "source": [
    "# Проверка получения самой первой цены по времени\n",
    "price_at_t0_oil = oil.iloc[-1]['Price']\n",
    "price_at_t0_usd_rub_price = usd_rub_price.iloc[-1]['Price']\n",
    "print(f'{price_at_t0_oil=}, {price_at_t0_usd_rub_price=}')"
   ]
  },
  {
   "cell_type": "markdown",
   "metadata": {},
   "source": [
    "Проверка удалась, будем использовать этот индекс в функции."
   ]
  },
  {
   "cell_type": "code",
   "execution_count": 21,
   "metadata": {},
   "outputs": [],
   "source": [
    "# price@t0 = 100%< >\n",
    "def normalize_value(table, new_column, source_column):\n",
    "    \"\"\"\n",
    "    Нормализует колонку (цены) относительно самого раннего по времени значения. Все последующие значения будут\n",
    "    представлены в виде процентного изменения к этой цене\n",
    "    :param table: Data Frame который нормализуем\n",
    "    :param new_column: Название колонки с нормализованными данными\n",
    "    :param source_column: Колонка с данными которые нормализуем\n",
    "    :return: Data Frame с новой колонкой нормализованных данных\n",
    "    \"\"\"\n",
    "    price_at_t0 = table.iloc[-1][source_column]  # Берем самое первое по времени значение (к нему нормализуем)\n",
    "    table[new_column] = table.apply(lambda row: row[source_column] / price_at_t0, axis=1)  # axis=1 Указывает на колонку\n",
    "    return table\n"
   ]
  },
  {
   "cell_type": "markdown",
   "metadata": {},
   "source": [
    "Нормализуем DF oil и usd_rub_price"
   ]
  },
  {
   "cell_type": "code",
   "execution_count": 23,
   "metadata": {},
   "outputs": [
    {
     "data": {
      "text/html": [
       "<div>\n",
       "<style scoped>\n",
       "    .dataframe tbody tr th:only-of-type {\n",
       "        vertical-align: middle;\n",
       "    }\n",
       "\n",
       "    .dataframe tbody tr th {\n",
       "        vertical-align: top;\n",
       "    }\n",
       "\n",
       "    .dataframe thead th {\n",
       "        text-align: right;\n",
       "    }\n",
       "</style>\n",
       "<table border=\"1\" class=\"dataframe\">\n",
       "  <thead>\n",
       "    <tr style=\"text-align: right;\">\n",
       "      <th></th>\n",
       "      <th>Price</th>\n",
       "      <th>Normalized value</th>\n",
       "    </tr>\n",
       "    <tr>\n",
       "      <th>Date</th>\n",
       "      <th></th>\n",
       "      <th></th>\n",
       "    </tr>\n",
       "  </thead>\n",
       "  <tbody>\n",
       "    <tr>\n",
       "      <th>2018-06-11</th>\n",
       "      <td>62.8155</td>\n",
       "      <td>2.071922</td>\n",
       "    </tr>\n",
       "    <tr>\n",
       "      <th>2018-06-08</th>\n",
       "      <td>62.3193</td>\n",
       "      <td>2.055555</td>\n",
       "    </tr>\n",
       "    <tr>\n",
       "      <th>2018-06-07</th>\n",
       "      <td>62.4179</td>\n",
       "      <td>2.058808</td>\n",
       "    </tr>\n",
       "    <tr>\n",
       "      <th>2018-06-06</th>\n",
       "      <td>61.7848</td>\n",
       "      <td>2.037925</td>\n",
       "    </tr>\n",
       "    <tr>\n",
       "      <th>2018-06-05</th>\n",
       "      <td>62.1456</td>\n",
       "      <td>2.049826</td>\n",
       "    </tr>\n",
       "    <tr>\n",
       "      <th>...</th>\n",
       "      <td>...</td>\n",
       "      <td>...</td>\n",
       "    </tr>\n",
       "    <tr>\n",
       "      <th>2010-01-08</th>\n",
       "      <td>29.8685</td>\n",
       "      <td>0.985190</td>\n",
       "    </tr>\n",
       "    <tr>\n",
       "      <th>2010-01-07</th>\n",
       "      <td>30.1000</td>\n",
       "      <td>0.992826</td>\n",
       "    </tr>\n",
       "    <tr>\n",
       "      <th>2010-01-06</th>\n",
       "      <td>30.1000</td>\n",
       "      <td>0.992826</td>\n",
       "    </tr>\n",
       "    <tr>\n",
       "      <th>2010-01-05</th>\n",
       "      <td>30.1000</td>\n",
       "      <td>0.992826</td>\n",
       "    </tr>\n",
       "    <tr>\n",
       "      <th>2010-01-04</th>\n",
       "      <td>30.3175</td>\n",
       "      <td>1.000000</td>\n",
       "    </tr>\n",
       "  </tbody>\n",
       "</table>\n",
       "<p>2125 rows × 2 columns</p>\n",
       "</div>"
      ],
      "text/plain": [
       "              Price  Normalized value\n",
       "Date                                 \n",
       "2018-06-11  62.8155          2.071922\n",
       "2018-06-08  62.3193          2.055555\n",
       "2018-06-07  62.4179          2.058808\n",
       "2018-06-06  61.7848          2.037925\n",
       "2018-06-05  62.1456          2.049826\n",
       "...             ...               ...\n",
       "2010-01-08  29.8685          0.985190\n",
       "2010-01-07  30.1000          0.992826\n",
       "2010-01-06  30.1000          0.992826\n",
       "2010-01-05  30.1000          0.992826\n",
       "2010-01-04  30.3175          1.000000\n",
       "\n",
       "[2125 rows x 2 columns]"
      ]
     },
     "execution_count": 23,
     "metadata": {},
     "output_type": "execute_result"
    }
   ],
   "source": [
    "# Нормализация цены для корректного отображения на графике нескольких инструментов (новая колонка нормализованных цен)\n",
    "usd_rub_price = normalize_value(usd_rub_price, 'Normalized value', 'Price')\n",
    "usd_rub_price"
   ]
  },
  {
   "cell_type": "code",
   "execution_count": 24,
   "metadata": {},
   "outputs": [
    {
     "data": {
      "text/html": [
       "<div>\n",
       "<style scoped>\n",
       "    .dataframe tbody tr th:only-of-type {\n",
       "        vertical-align: middle;\n",
       "    }\n",
       "\n",
       "    .dataframe tbody tr th {\n",
       "        vertical-align: top;\n",
       "    }\n",
       "\n",
       "    .dataframe thead th {\n",
       "        text-align: right;\n",
       "    }\n",
       "</style>\n",
       "<table border=\"1\" class=\"dataframe\">\n",
       "  <thead>\n",
       "    <tr style=\"text-align: right;\">\n",
       "      <th></th>\n",
       "      <th>Price</th>\n",
       "      <th>Normalized value</th>\n",
       "    </tr>\n",
       "    <tr>\n",
       "      <th>Date</th>\n",
       "      <th></th>\n",
       "      <th></th>\n",
       "    </tr>\n",
       "  </thead>\n",
       "  <tbody>\n",
       "    <tr>\n",
       "      <th>2018-06-11</th>\n",
       "      <td>66.10</td>\n",
       "      <td>0.810844</td>\n",
       "    </tr>\n",
       "    <tr>\n",
       "      <th>2018-06-08</th>\n",
       "      <td>65.77</td>\n",
       "      <td>0.806796</td>\n",
       "    </tr>\n",
       "    <tr>\n",
       "      <th>2018-06-07</th>\n",
       "      <td>65.96</td>\n",
       "      <td>0.809127</td>\n",
       "    </tr>\n",
       "    <tr>\n",
       "      <th>2018-06-06</th>\n",
       "      <td>64.75</td>\n",
       "      <td>0.794284</td>\n",
       "    </tr>\n",
       "    <tr>\n",
       "      <th>2018-06-05</th>\n",
       "      <td>65.51</td>\n",
       "      <td>0.803606</td>\n",
       "    </tr>\n",
       "    <tr>\n",
       "      <th>...</th>\n",
       "      <td>...</td>\n",
       "      <td>...</td>\n",
       "    </tr>\n",
       "    <tr>\n",
       "      <th>2010-01-08</th>\n",
       "      <td>82.74</td>\n",
       "      <td>1.014966</td>\n",
       "    </tr>\n",
       "    <tr>\n",
       "      <th>2010-01-07</th>\n",
       "      <td>82.60</td>\n",
       "      <td>1.013248</td>\n",
       "    </tr>\n",
       "    <tr>\n",
       "      <th>2010-01-06</th>\n",
       "      <td>83.12</td>\n",
       "      <td>1.019627</td>\n",
       "    </tr>\n",
       "    <tr>\n",
       "      <th>2010-01-05</th>\n",
       "      <td>81.74</td>\n",
       "      <td>1.002699</td>\n",
       "    </tr>\n",
       "    <tr>\n",
       "      <th>2010-01-04</th>\n",
       "      <td>81.52</td>\n",
       "      <td>1.000000</td>\n",
       "    </tr>\n",
       "  </tbody>\n",
       "</table>\n",
       "<p>2125 rows × 2 columns</p>\n",
       "</div>"
      ],
      "text/plain": [
       "            Price  Normalized value\n",
       "Date                               \n",
       "2018-06-11  66.10          0.810844\n",
       "2018-06-08  65.77          0.806796\n",
       "2018-06-07  65.96          0.809127\n",
       "2018-06-06  64.75          0.794284\n",
       "2018-06-05  65.51          0.803606\n",
       "...           ...               ...\n",
       "2010-01-08  82.74          1.014966\n",
       "2010-01-07  82.60          1.013248\n",
       "2010-01-06  83.12          1.019627\n",
       "2010-01-05  81.74          1.002699\n",
       "2010-01-04  81.52          1.000000\n",
       "\n",
       "[2125 rows x 2 columns]"
      ]
     },
     "execution_count": 24,
     "metadata": {},
     "output_type": "execute_result"
    }
   ],
   "source": [
    "oil = normalize_value(oil, 'Normalized value', 'Price')\n",
    "oil"
   ]
  },
  {
   "cell_type": "markdown",
   "metadata": {},
   "source": [
    "Новые колонки появились и отображают корректные значения нормализованных цен.\n",
    "* * * "
   ]
  },
  {
   "cell_type": "markdown",
   "metadata": {},
   "source": [
    "Строим график из нормализованной цены."
   ]
  },
  {
   "cell_type": "code",
   "execution_count": 26,
   "metadata": {},
   "outputs": [
    {
     "data": {
      "image/png": "[encoded data removed]",
      "text/plain": [
       "<Figure size 432x288 with 1 Axes>"
      ]
     },
     "metadata": {
      "needs_background": "light"
     },
     "output_type": "display_data"
    }
   ],
   "source": [
    "# По оси X будет index (date)\n",
    "x_axis = oil.index\n",
    "# По оси Y будет price\n",
    "oil_y_axis = oil['Normalized value'].values\n",
    "rub_y_axis = usd_rub_price['Normalized value'].values\n",
    "\n",
    "# Построение графиков\n",
    "plt.plot(x_axis, oil_y_axis, color='red', label='Oil Price')  # Вывод графика линией\n",
    "plt.plot(x_axis, rub_y_axis, 'b--', label='Rub Price')  # color='blue'\n",
    "plt.legend()  # Для показа label\n",
    "plt.show()"
   ]
  },
  {
   "cell_type": "markdown",
   "metadata": {},
   "source": [
    "# Зависит ли цена доллара от нефти?"
   ]
  },
  {
   "cell_type": "code",
   "execution_count": null,
   "metadata": {},
   "outputs": [],
   "source": []
  }
 ],
 "metadata": {
  "kernelspec": {
   "display_name": "Python 3",
   "language": "python",
   "name": "python3"
  },
  "language_info": {
   "codemirror_mode": {
    "name": "ipython",
    "version": 3
   },
   "file_extension": ".py",
   "mimetype": "text/x-python",
   "name": "python",
   "nbconvert_exporter": "python",
   "pygments_lexer": "ipython3",
   "version": "3.8.3"
  }
 },
 "nbformat": 4,
 "nbformat_minor": 4
}
